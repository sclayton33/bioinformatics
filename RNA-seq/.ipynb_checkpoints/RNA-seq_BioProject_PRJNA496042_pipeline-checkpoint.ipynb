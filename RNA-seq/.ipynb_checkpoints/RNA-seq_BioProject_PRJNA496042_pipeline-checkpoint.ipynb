{
 "cells": [
  {
   "cell_type": "markdown",
   "id": "994d63a5-4f40-4b33-b26d-7368d1cc4b57",
   "metadata": {},
   "source": [
    "# Introduction\n",
    "\n",
    "This RNA-seq pipeline is based off of **RNA-seq_pipeline_practice_v1.0.0** and is meant to test how well it works on a full dataset with known outcomes to compare too.\n",
    "\n",
    "The full dataset is available on [BioProject - Accession PRJNA496042](https://www.ncbi.nlm.nih.gov/bioproject/?term=PRJNA496042).\n",
    "\n",
    "The paper this dataset is from:\n",
    "\n",
    "```Wilson, Hannah E., Kacey Rhodes, Daniel Rodriguez, Daniel A. Rodriguez, Daniel Rodriguez, Ikttesh Chahal, David A. Stanton, et al. “Human Breast Cancer Xenograft Model Implicates Peroxisome Proliferator–Activated Receptor Signaling as Driver of Cancer-Induced Muscle Fatigue.” Clinical Cancer Research 25, no. 7 (April 1, 2019): 2336–47. https://doi.org/10.1158/1078-0432.ccr-18-1565.```"
   ]
  },
  {
   "cell_type": "code",
   "execution_count": null,
   "id": "016ffd54-4af3-490c-a0fd-a6e08206830d",
   "metadata": {},
   "outputs": [],
   "source": []
  }
 ],
 "metadata": {
  "kernelspec": {
   "display_name": "R",
   "language": "R",
   "name": "ir"
  },
  "language_info": {
   "codemirror_mode": "r",
   "file_extension": ".r",
   "mimetype": "text/x-r-source",
   "name": "R",
   "pygments_lexer": "r",
   "version": "4.2.2"
  }
 },
 "nbformat": 4,
 "nbformat_minor": 5
}
